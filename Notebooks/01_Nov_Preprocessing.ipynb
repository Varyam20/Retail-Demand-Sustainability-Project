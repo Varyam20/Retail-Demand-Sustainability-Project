{
 "cells": [
  {
   "cell_type": "code",
   "execution_count": 3,
   "id": "db2c1a94-b4ab-4f34-8003-3f71e91aea8e",
   "metadata": {},
   "outputs": [],
   "source": [
    "# 1.1 Import Libraries\n",
    "import pandas as pd\n",
    "import numpy as np\n",
    "import matplotlib.pyplot as plt\n",
    "import seaborn as sns\n",
    "from tqdm import tqdm\n",
    "import warnings\n",
    "warnings.filterwarnings('ignore')\n"
   ]
  },
  {
   "cell_type": "code",
   "execution_count": 6,
   "id": "b2b70de7-8f03-4c81-915f-5ebeae449847",
   "metadata": {},
   "outputs": [
    {
     "name": "stdout",
     "output_type": "stream",
     "text": [
      "Shape: (67501979, 9)\n"
     ]
    },
    {
     "data": {
      "text/html": [
       "<div>\n",
       "<style scoped>\n",
       "    .dataframe tbody tr th:only-of-type {\n",
       "        vertical-align: middle;\n",
       "    }\n",
       "\n",
       "    .dataframe tbody tr th {\n",
       "        vertical-align: top;\n",
       "    }\n",
       "\n",
       "    .dataframe thead th {\n",
       "        text-align: right;\n",
       "    }\n",
       "</style>\n",
       "<table border=\"1\" class=\"dataframe\">\n",
       "  <thead>\n",
       "    <tr style=\"text-align: right;\">\n",
       "      <th></th>\n",
       "      <th>event_time</th>\n",
       "      <th>event_type</th>\n",
       "      <th>product_id</th>\n",
       "      <th>category_id</th>\n",
       "      <th>category_code</th>\n",
       "      <th>brand</th>\n",
       "      <th>price</th>\n",
       "      <th>user_id</th>\n",
       "      <th>user_session</th>\n",
       "    </tr>\n",
       "  </thead>\n",
       "  <tbody>\n",
       "    <tr>\n",
       "      <th>0</th>\n",
       "      <td>2019-11-01 00:00:00+00:00</td>\n",
       "      <td>view</td>\n",
       "      <td>1003461</td>\n",
       "      <td>2053013555631882655</td>\n",
       "      <td>electronics.smartphone</td>\n",
       "      <td>xiaomi</td>\n",
       "      <td>489.07</td>\n",
       "      <td>520088904</td>\n",
       "      <td>4d3b30da-a5e4-49df-b1a8-ba5943f1dd33</td>\n",
       "    </tr>\n",
       "    <tr>\n",
       "      <th>1</th>\n",
       "      <td>2019-11-01 00:00:00+00:00</td>\n",
       "      <td>view</td>\n",
       "      <td>5000088</td>\n",
       "      <td>2053013566100866035</td>\n",
       "      <td>appliances.sewing_machine</td>\n",
       "      <td>janome</td>\n",
       "      <td>293.65</td>\n",
       "      <td>530496790</td>\n",
       "      <td>8e5f4f83-366c-4f70-860e-ca7417414283</td>\n",
       "    </tr>\n",
       "    <tr>\n",
       "      <th>2</th>\n",
       "      <td>2019-11-01 00:00:01+00:00</td>\n",
       "      <td>view</td>\n",
       "      <td>17302664</td>\n",
       "      <td>2053013553853497655</td>\n",
       "      <td>NaN</td>\n",
       "      <td>creed</td>\n",
       "      <td>28.31</td>\n",
       "      <td>561587266</td>\n",
       "      <td>755422e7-9040-477b-9bd2-6a6e8fd97387</td>\n",
       "    </tr>\n",
       "    <tr>\n",
       "      <th>3</th>\n",
       "      <td>2019-11-01 00:00:01+00:00</td>\n",
       "      <td>view</td>\n",
       "      <td>3601530</td>\n",
       "      <td>2053013563810775923</td>\n",
       "      <td>appliances.kitchen.washer</td>\n",
       "      <td>lg</td>\n",
       "      <td>712.87</td>\n",
       "      <td>518085591</td>\n",
       "      <td>3bfb58cd-7892-48cc-8020-2f17e6de6e7f</td>\n",
       "    </tr>\n",
       "    <tr>\n",
       "      <th>4</th>\n",
       "      <td>2019-11-01 00:00:01+00:00</td>\n",
       "      <td>view</td>\n",
       "      <td>1004775</td>\n",
       "      <td>2053013555631882655</td>\n",
       "      <td>electronics.smartphone</td>\n",
       "      <td>xiaomi</td>\n",
       "      <td>183.27</td>\n",
       "      <td>558856683</td>\n",
       "      <td>313628f1-68b8-460d-84f6-cec7a8796ef2</td>\n",
       "    </tr>\n",
       "  </tbody>\n",
       "</table>\n",
       "</div>"
      ],
      "text/plain": [
       "                 event_time event_type  product_id          category_id  \\\n",
       "0 2019-11-01 00:00:00+00:00       view     1003461  2053013555631882655   \n",
       "1 2019-11-01 00:00:00+00:00       view     5000088  2053013566100866035   \n",
       "2 2019-11-01 00:00:01+00:00       view    17302664  2053013553853497655   \n",
       "3 2019-11-01 00:00:01+00:00       view     3601530  2053013563810775923   \n",
       "4 2019-11-01 00:00:01+00:00       view     1004775  2053013555631882655   \n",
       "\n",
       "               category_code   brand   price    user_id  \\\n",
       "0     electronics.smartphone  xiaomi  489.07  520088904   \n",
       "1  appliances.sewing_machine  janome  293.65  530496790   \n",
       "2                        NaN   creed   28.31  561587266   \n",
       "3  appliances.kitchen.washer      lg  712.87  518085591   \n",
       "4     electronics.smartphone  xiaomi  183.27  558856683   \n",
       "\n",
       "                           user_session  \n",
       "0  4d3b30da-a5e4-49df-b1a8-ba5943f1dd33  \n",
       "1  8e5f4f83-366c-4f70-860e-ca7417414283  \n",
       "2  755422e7-9040-477b-9bd2-6a6e8fd97387  \n",
       "3  3bfb58cd-7892-48cc-8020-2f17e6de6e7f  \n",
       "4  313628f1-68b8-460d-84f6-cec7a8796ef2  "
      ]
     },
     "execution_count": 6,
     "metadata": {},
     "output_type": "execute_result"
    }
   ],
   "source": [
    "# 1.2 Load the Dataset\n",
    "\n",
    "# Load full dataset (slow but necessary for full analysis)\n",
    "data = pd.read_csv(r'D:\\Sparkathon\\Data\\raw data(2019-Nov).csv', low_memory=False, parse_dates=['event_time'])\n",
    "\n",
    "# Preview data\n",
    "print(\"Shape:\", data.shape)\n",
    "data.head()\n"
   ]
  },
  {
   "cell_type": "code",
   "execution_count": 16,
   "id": "5d9da180-ad24-4c6d-ab40-041fdd91b045",
   "metadata": {},
   "outputs": [
    {
     "name": "stdout",
     "output_type": "stream",
     "text": [
      "Columns: Index(['event_time', 'event_type', 'product_id', 'category_id',\n",
      "       'category_code', 'brand', 'price', 'user_id', 'user_session'],\n",
      "      dtype='object')\n",
      "\n",
      "Missing values:\n",
      " event_time              0\n",
      "event_type              0\n",
      "product_id              0\n",
      "category_id             0\n",
      "category_code    21898171\n",
      "brand             9224078\n",
      "price                   0\n",
      "user_id                 0\n",
      "user_session           10\n",
      "dtype: int64\n"
     ]
    },
    {
     "data": {
      "text/plain": [
       "event_time       datetime64[ns, UTC]\n",
       "event_type                    object\n",
       "product_id                     int64\n",
       "category_id                    int64\n",
       "category_code                 object\n",
       "brand                         object\n",
       "price                        float64\n",
       "user_id                        int64\n",
       "user_session                  object\n",
       "dtype: object"
      ]
     },
     "execution_count": 16,
     "metadata": {},
     "output_type": "execute_result"
    }
   ],
   "source": [
    "# 1.3 Basic Inspection\n",
    "# Column names\n",
    "print(\"Columns:\", data.columns)\n",
    "\n",
    "# Check nulls\n",
    "print(\"\\nMissing values:\\n\", data.isnull().sum())\n",
    "\n",
    "# Check data types\n",
    "data.dtypes"
   ]
  },
  {
   "cell_type": "code",
   "execution_count": 18,
   "id": "011ebc5d-318f-43b3-8467-7190332d8a38",
   "metadata": {},
   "outputs": [
    {
     "name": "stdout",
     "output_type": "stream",
     "text": [
      "After cleaning, shape: (67501969, 9)\n"
     ]
    }
   ],
   "source": [
    "# 1.4 Drop Unnecessary Null Rows\n",
    "\n",
    "# Drop rows with no product_id, user_id, or event_type (essential fields)\n",
    "data.dropna(subset=['product_id', 'user_id', 'event_type', 'user_session'], inplace=True)\n",
    "\n",
    "# Fill missing brand and category_code with \"Unknown\"\n",
    "data['brand'].fillna('Unknown', inplace=True)\n",
    "data['category_code'].fillna('Unknown', inplace=True)\n",
    "\n",
    "print(\"After cleaning, shape:\", data.shape)\n"
   ]
  },
  {
   "cell_type": "code",
   "execution_count": 20,
   "id": "3eb43eaf-5abd-41ab-bf82-5312ae2aac02",
   "metadata": {},
   "outputs": [],
   "source": [
    "# 1.5 Feature Engineering: Time-Based\n",
    "\n",
    "# Make sure event_time is datetime\n",
    "data['event_time'] = pd.to_datetime(data['event_time'])\n",
    "\n",
    "# Extract features\n",
    "data['event_hour'] = data['event_time'].dt.hour\n",
    "data['event_day'] = data['event_time'].dt.day\n",
    "data['event_weekday'] = data['event_time'].dt.weekday\n",
    "data['event_month'] = data['event_time'].dt.month\n",
    "data['event_date'] = data['event_time'].dt.date"
   ]
  },
  {
   "cell_type": "code",
   "execution_count": 22,
   "id": "7e93c831-0177-400a-a2a3-02a3c1cbfa38",
   "metadata": {},
   "outputs": [
    {
     "name": "stdout",
     "output_type": "stream",
     "text": [
      "\n",
      "Top category codes:\n",
      "category_code\n",
      "Unknown                             21898168\n",
      "electronics.smartphone              16374997\n",
      "electronics.video.tv                 2208045\n",
      "computers.notebook                   2180554\n",
      "electronics.clocks                   2086965\n",
      "apparel.shoes                        1886890\n",
      "electronics.audio.headphone          1816875\n",
      "appliances.environment.vacuum        1528058\n",
      "appliances.kitchen.refrigerators     1427162\n",
      "appliances.kitchen.washer            1403866\n",
      "Name: count, dtype: int64\n",
      "\n",
      "Top main categories:\n",
      "main_category\n",
      "electronics     24006079\n",
      "Unknown         21898168\n",
      "appliances       8489825\n",
      "computers        4181358\n",
      "apparel          3011101\n",
      "furniture        2111829\n",
      "auto             1214159\n",
      "construction     1092155\n",
      "kids              806384\n",
      "accessories       390038\n",
      "sport             247994\n",
      "medicine           22382\n",
      "country_yard       17719\n",
      "stationery         12778\n",
      "Name: count, dtype: int64\n"
     ]
    }
   ],
   "source": [
    "# 1.6 Category-Level Breakdown\n",
    "\n",
    "# Check top category codes\n",
    "print(\"\\nTop category codes:\")\n",
    "print(data['category_code'].value_counts().head(10))\n",
    "\n",
    "# Extract top-level category (e.g., \"electronics\" from \"electronics.smartphone\")\n",
    "data['main_category'] = data['category_code'].apply(lambda x: x.split('.')[0] if '.' in x else x)\n",
    "\n",
    "print(\"\\nTop main categories:\")\n",
    "print(data['main_category'].value_counts())"
   ]
  },
  {
   "cell_type": "code",
   "execution_count": 24,
   "id": "ee10fa7a-4b2d-47ff-b757-1dbc719136a9",
   "metadata": {},
   "outputs": [
    {
     "name": "stdout",
     "output_type": "stream",
     "text": [
      "Price summary:\n",
      " count    6.750197e+07\n",
      "mean     2.924593e+02\n",
      "std      3.556745e+02\n",
      "min      0.000000e+00\n",
      "25%      6.924000e+01\n",
      "50%      1.657700e+02\n",
      "75%      3.603400e+02\n",
      "max      2.574070e+03\n",
      "Name: price, dtype: float64\n"
     ]
    }
   ],
   "source": [
    "# 1.7 Price Statistics\n",
    "\n",
    "# Check price distribution\n",
    "print(\"Price summary:\\n\", data['price'].describe())"
   ]
  },
  {
   "cell_type": "code",
   "execution_count": 26,
   "id": "b474a1da-864e-4b23-bf94-b7e64c58008a",
   "metadata": {},
   "outputs": [
    {
     "data": {
      "image/png": "[encoded data removed]",
      "text/plain": [
       "<Figure size 1000x500 with 1 Axes>"
      ]
     },
     "metadata": {},
     "output_type": "display_data"
    }
   ],
   "source": [
    " # Visualize price distribution\n",
    "plt.figure(figsize=(10,5))\n",
    "sns.histplot(data['price'], bins=100, kde=True)\n",
    "plt.title(\"Price Distribution\")\n",
    "plt.xlabel(\"Price\")\n",
    "plt.ylabel(\"Frequency\")\n",
    "plt.xlim(0, 2000)  # Optional zoom\n",
    "plt.show()"
   ]
  },
  {
   "cell_type": "code",
   "execution_count": 28,
   "id": "d464b5d1-fb0f-47c2-b270-515d8a7feba9",
   "metadata": {},
   "outputs": [
    {
     "name": "stdout",
     "output_type": "stream",
     "text": [
      "\n",
      "Event types:\n",
      " event_type\n",
      "view        63556110\n",
      "cart         3028920\n",
      "purchase      916939\n",
      "Name: count, dtype: int64\n"
     ]
    },
    {
     "data": {
      "image/png": "[encoded data removed]",
      "text/plain": [
       "<Figure size 600x400 with 1 Axes>"
      ]
     },
     "metadata": {},
     "output_type": "display_data"
    }
   ],
   "source": [
    "# 1.8 Event Type Counts\n",
    "\n",
    "event_counts = data['event_type'].value_counts()\n",
    "print(\"\\nEvent types:\\n\", event_counts)\n",
    "\n",
    "# Optional: Plot\n",
    "plt.figure(figsize=(6,4))\n",
    "sns.barplot(x=event_counts.index, y=event_counts.values)\n",
    "plt.title(\"Event Type Counts\")\n",
    "plt.xlabel(\"Event Type\")\n",
    "plt.ylabel(\"Count\")\n",
    "plt.show()"
   ]
  },
  {
   "cell_type": "code",
   "execution_count": 35,
   "id": "7f1c498b-20ca-4fae-a2a1-ec5a01b58268",
   "metadata": {},
   "outputs": [
    {
     "name": "stdout",
     "output_type": "stream",
     "text": [
      "Cleaned data saved!\n"
     ]
    }
   ],
   "source": [
    "# 1.9 Save Cleaned Dataset\n",
    "\n",
    "# Save to new CSV\n",
    "data.to_csv(\"phase1_Nov_cleaned_ecommerce_data.csv\", index=False)\n",
    "print(\"Cleaned data saved!\")"
   ]
  },
  {
   "cell_type": "code",
   "execution_count": null,
   "id": "b8e3567a-3072-4f10-846a-1f1b8e43ad24",
   "metadata": {},
   "outputs": [],
   "source": []
  }
 ],
 "metadata": {
  "kernelspec": {
   "display_name": "Python [conda env:base] *",
   "language": "python",
   "name": "conda-base-py"
  },
  "language_info": {
   "codemirror_mode": {
    "name": "ipython",
    "version": 3
   },
   "file_extension": ".py",
   "mimetype": "text/x-python",
   "name": "python",
   "nbconvert_exporter": "python",
   "pygments_lexer": "ipython3",
   "version": "3.12.7"
  }
 },
 "nbformat": 4,
 "nbformat_minor": 5
}
