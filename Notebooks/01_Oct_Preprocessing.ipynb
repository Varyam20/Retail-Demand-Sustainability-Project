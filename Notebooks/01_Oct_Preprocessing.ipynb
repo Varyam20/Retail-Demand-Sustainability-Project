{
 "cells": [
  {
   "cell_type": "code",
   "execution_count": 3,
   "id": "ce275522-292c-4741-9492-1d86949a9f44",
   "metadata": {},
   "outputs": [],
   "source": [
    "# 1.1 Import Libraries\n",
    "import pandas as pd\n",
    "import numpy as np\n",
    "import matplotlib.pyplot as plt\n",
    "import seaborn as sns\n",
    "from tqdm import tqdm\n",
    "import warnings\n",
    "warnings.filterwarnings('ignore')\n"
   ]
  },
  {
   "cell_type": "code",
   "execution_count": 5,
   "id": "1b2aab67-cf73-4343-9737-e3ee740bb432",
   "metadata": {},
   "outputs": [
    {
     "name": "stdout",
     "output_type": "stream",
     "text": [
      "Shape: (42448764, 9)\n"
     ]
    },
    {
     "data": {
      "text/html": [
       "<div>\n",
       "<style scoped>\n",
       "    .dataframe tbody tr th:only-of-type {\n",
       "        vertical-align: middle;\n",
       "    }\n",
       "\n",
       "    .dataframe tbody tr th {\n",
       "        vertical-align: top;\n",
       "    }\n",
       "\n",
       "    .dataframe thead th {\n",
       "        text-align: right;\n",
       "    }\n",
       "</style>\n",
       "<table border=\"1\" class=\"dataframe\">\n",
       "  <thead>\n",
       "    <tr style=\"text-align: right;\">\n",
       "      <th></th>\n",
       "      <th>event_time</th>\n",
       "      <th>event_type</th>\n",
       "      <th>product_id</th>\n",
       "      <th>category_id</th>\n",
       "      <th>category_code</th>\n",
       "      <th>brand</th>\n",
       "      <th>price</th>\n",
       "      <th>user_id</th>\n",
       "      <th>user_session</th>\n",
       "    </tr>\n",
       "  </thead>\n",
       "  <tbody>\n",
       "    <tr>\n",
       "      <th>0</th>\n",
       "      <td>2019-10-01 00:00:00+00:00</td>\n",
       "      <td>view</td>\n",
       "      <td>44600062</td>\n",
       "      <td>2103807459595387724</td>\n",
       "      <td>NaN</td>\n",
       "      <td>shiseido</td>\n",
       "      <td>35.79</td>\n",
       "      <td>541312140</td>\n",
       "      <td>72d76fde-8bb3-4e00-8c23-a032dfed738c</td>\n",
       "    </tr>\n",
       "    <tr>\n",
       "      <th>1</th>\n",
       "      <td>2019-10-01 00:00:00+00:00</td>\n",
       "      <td>view</td>\n",
       "      <td>3900821</td>\n",
       "      <td>2053013552326770905</td>\n",
       "      <td>appliances.environment.water_heater</td>\n",
       "      <td>aqua</td>\n",
       "      <td>33.20</td>\n",
       "      <td>554748717</td>\n",
       "      <td>9333dfbd-b87a-4708-9857-6336556b0fcc</td>\n",
       "    </tr>\n",
       "    <tr>\n",
       "      <th>2</th>\n",
       "      <td>2019-10-01 00:00:01+00:00</td>\n",
       "      <td>view</td>\n",
       "      <td>17200506</td>\n",
       "      <td>2053013559792632471</td>\n",
       "      <td>furniture.living_room.sofa</td>\n",
       "      <td>NaN</td>\n",
       "      <td>543.10</td>\n",
       "      <td>519107250</td>\n",
       "      <td>566511c2-e2e3-422b-b695-cf8e6e792ca8</td>\n",
       "    </tr>\n",
       "    <tr>\n",
       "      <th>3</th>\n",
       "      <td>2019-10-01 00:00:01+00:00</td>\n",
       "      <td>view</td>\n",
       "      <td>1307067</td>\n",
       "      <td>2053013558920217191</td>\n",
       "      <td>computers.notebook</td>\n",
       "      <td>lenovo</td>\n",
       "      <td>251.74</td>\n",
       "      <td>550050854</td>\n",
       "      <td>7c90fc70-0e80-4590-96f3-13c02c18c713</td>\n",
       "    </tr>\n",
       "    <tr>\n",
       "      <th>4</th>\n",
       "      <td>2019-10-01 00:00:04+00:00</td>\n",
       "      <td>view</td>\n",
       "      <td>1004237</td>\n",
       "      <td>2053013555631882655</td>\n",
       "      <td>electronics.smartphone</td>\n",
       "      <td>apple</td>\n",
       "      <td>1081.98</td>\n",
       "      <td>535871217</td>\n",
       "      <td>c6bd7419-2748-4c56-95b4-8cec9ff8b80d</td>\n",
       "    </tr>\n",
       "  </tbody>\n",
       "</table>\n",
       "</div>"
      ],
      "text/plain": [
       "                 event_time event_type  product_id          category_id  \\\n",
       "0 2019-10-01 00:00:00+00:00       view    44600062  2103807459595387724   \n",
       "1 2019-10-01 00:00:00+00:00       view     3900821  2053013552326770905   \n",
       "2 2019-10-01 00:00:01+00:00       view    17200506  2053013559792632471   \n",
       "3 2019-10-01 00:00:01+00:00       view     1307067  2053013558920217191   \n",
       "4 2019-10-01 00:00:04+00:00       view     1004237  2053013555631882655   \n",
       "\n",
       "                         category_code     brand    price    user_id  \\\n",
       "0                                  NaN  shiseido    35.79  541312140   \n",
       "1  appliances.environment.water_heater      aqua    33.20  554748717   \n",
       "2           furniture.living_room.sofa       NaN   543.10  519107250   \n",
       "3                   computers.notebook    lenovo   251.74  550050854   \n",
       "4               electronics.smartphone     apple  1081.98  535871217   \n",
       "\n",
       "                           user_session  \n",
       "0  72d76fde-8bb3-4e00-8c23-a032dfed738c  \n",
       "1  9333dfbd-b87a-4708-9857-6336556b0fcc  \n",
       "2  566511c2-e2e3-422b-b695-cf8e6e792ca8  \n",
       "3  7c90fc70-0e80-4590-96f3-13c02c18c713  \n",
       "4  c6bd7419-2748-4c56-95b4-8cec9ff8b80d  "
      ]
     },
     "execution_count": 5,
     "metadata": {},
     "output_type": "execute_result"
    }
   ],
   "source": [
    "# 1.2 Load the Dataset\n",
    "\n",
    "# Load full dataset (slow but necessary for full analysis)\n",
    "data = pd.read_csv('2019-Oct.csv', low_memory=False, parse_dates=['event_time'])\n",
    "\n",
    "# Preview data\n",
    "print(\"Shape:\", data.shape)\n",
    "data.head()\n"
   ]
  },
  {
   "cell_type": "code",
   "execution_count": 7,
   "id": "f42e92a9-adb8-48b0-810b-819d198dfc8d",
   "metadata": {},
   "outputs": [
    {
     "name": "stdout",
     "output_type": "stream",
     "text": [
      "Columns: Index(['event_time', 'event_type', 'product_id', 'category_id',\n",
      "       'category_code', 'brand', 'price', 'user_id', 'user_session'],\n",
      "      dtype='object')\n",
      "\n",
      "Missing values:\n",
      " event_time              0\n",
      "event_type              0\n",
      "product_id              0\n",
      "category_id             0\n",
      "category_code    13515609\n",
      "brand             6117080\n",
      "price                   0\n",
      "user_id                 0\n",
      "user_session            2\n",
      "dtype: int64\n"
     ]
    },
    {
     "data": {
      "text/plain": [
       "event_time       datetime64[ns, UTC]\n",
       "event_type                    object\n",
       "product_id                     int64\n",
       "category_id                    int64\n",
       "category_code                 object\n",
       "brand                         object\n",
       "price                        float64\n",
       "user_id                        int64\n",
       "user_session                  object\n",
       "dtype: object"
      ]
     },
     "execution_count": 7,
     "metadata": {},
     "output_type": "execute_result"
    }
   ],
   "source": [
    "# 1.3 Basic Inspection\n",
    "# Column names\n",
    "print(\"Columns:\", data.columns)\n",
    "\n",
    "# Check nulls\n",
    "print(\"\\nMissing values:\\n\", data.isnull().sum())\n",
    "\n",
    "# Check data types\n",
    "data.dtypes"
   ]
  },
  {
   "cell_type": "code",
   "execution_count": 9,
   "id": "81ff1b72-92f3-4d06-9662-d067e86aff97",
   "metadata": {},
   "outputs": [
    {
     "name": "stdout",
     "output_type": "stream",
     "text": [
      "After cleaning, shape: (42448762, 9)\n"
     ]
    }
   ],
   "source": [
    "# 1.4 Drop Unnecessary Null Rows\n",
    "\n",
    "# Drop rows with no product_id, user_id, or event_type (essential fields)\n",
    "data.dropna(subset=['product_id', 'user_id', 'event_type', 'user_session'], inplace=True)\n",
    "\n",
    "# Fill missing brand and category_code with \"Unknown\"\n",
    "data['brand'].fillna('Unknown', inplace=True)\n",
    "data['category_code'].fillna('Unknown', inplace=True)\n",
    "\n",
    "print(\"After cleaning, shape:\", data.shape)\n"
   ]
  },
  {
   "cell_type": "code",
   "execution_count": 11,
   "id": "8c2c6c90-46b7-4bee-8ea1-0ef3d15516a0",
   "metadata": {},
   "outputs": [],
   "source": [
    "# 1.5 Feature Engineering: Time-Based\n",
    "\n",
    "# Make sure event_time is datetime\n",
    "data['event_time'] = pd.to_datetime(data['event_time'])\n",
    "\n",
    "# Extract features\n",
    "data['event_hour'] = data['event_time'].dt.hour\n",
    "data['event_day'] = data['event_time'].dt.day\n",
    "data['event_weekday'] = data['event_time'].dt.weekday\n",
    "data['event_month'] = data['event_time'].dt.month\n",
    "data['event_date'] = data['event_time'].dt.date"
   ]
  },
  {
   "cell_type": "code",
   "execution_count": 13,
   "id": "44793e47-fe37-4697-89b0-1dfbbb590d60",
   "metadata": {},
   "outputs": [
    {
     "name": "stdout",
     "output_type": "stream",
     "text": [
      "\n",
      "Top category codes:\n",
      "category_code\n",
      "Unknown                             13515609\n",
      "electronics.smartphone              11507230\n",
      "electronics.clocks                   1311033\n",
      "computers.notebook                   1137623\n",
      "electronics.video.tv                 1113749\n",
      "electronics.audio.headphone          1100188\n",
      "appliances.kitchen.refrigerators      887755\n",
      "appliances.kitchen.washer             869404\n",
      "appliances.environment.vacuum         801670\n",
      "apparel.shoes                         763901\n",
      "Name: count, dtype: int64\n",
      "\n",
      "Top main categories:\n",
      "main_category\n",
      "electronics     16135621\n",
      "Unknown         13515609\n",
      "appliances       4967294\n",
      "computers        2324217\n",
      "apparel          1542924\n",
      "furniture        1247160\n",
      "auto             1013115\n",
      "construction      730834\n",
      "kids              520619\n",
      "accessories       238238\n",
      "sport             176616\n",
      "medicine           14806\n",
      "country_yard       14089\n",
      "stationery          7620\n",
      "Name: count, dtype: int64\n"
     ]
    }
   ],
   "source": [
    "# 1.6 Category-Level Breakdown\n",
    "\n",
    "# Check top category codes\n",
    "print(\"\\nTop category codes:\")\n",
    "print(data['category_code'].value_counts().head(10))\n",
    "\n",
    "# Extract top-level category (e.g., \"electronics\" from \"electronics.smartphone\")\n",
    "data['main_category'] = data['category_code'].apply(lambda x: x.split('.')[0] if '.' in x else x)\n",
    "\n",
    "print(\"\\nTop main categories:\")\n",
    "print(data['main_category'].value_counts())"
   ]
  },
  {
   "cell_type": "code",
   "execution_count": 15,
   "id": "b4a7831a-b51c-4874-999f-456f592a678f",
   "metadata": {},
   "outputs": [
    {
     "name": "stdout",
     "output_type": "stream",
     "text": [
      "Price summary:\n",
      " count    4.244876e+07\n",
      "mean     2.903237e+02\n",
      "std      3.582692e+02\n",
      "min      0.000000e+00\n",
      "25%      6.598000e+01\n",
      "50%      1.629300e+02\n",
      "75%      3.585700e+02\n",
      "max      2.574070e+03\n",
      "Name: price, dtype: float64\n"
     ]
    }
   ],
   "source": [
    "# 1.7 Price Statistics\n",
    "\n",
    "# Check price distribution\n",
    "print(\"Price summary:\\n\", data['price'].describe())"
   ]
  },
  {
   "cell_type": "code",
   "execution_count": 17,
   "id": "9a849733-40ac-440f-8406-1651e5ec0312",
   "metadata": {},
   "outputs": [
    {
     "data": {
      "image/png": "[encoded data removed]",
      "text/plain": [
       "<Figure size 1000x500 with 1 Axes>"
      ]
     },
     "metadata": {},
     "output_type": "display_data"
    }
   ],
   "source": [
    " # Visualize price distribution\n",
    "plt.figure(figsize=(10,5))\n",
    "sns.histplot(data['price'], bins=100, kde=True)\n",
    "plt.title(\"Price Distribution\")\n",
    "plt.xlabel(\"Price\")\n",
    "plt.ylabel(\"Frequency\")\n",
    "plt.xlim(0, 2000)  # Optional zoom\n",
    "plt.show()"
   ]
  },
  {
   "cell_type": "code",
   "execution_count": 19,
   "id": "232dedb0-1219-4f79-bb5a-229c63bc4fe7",
   "metadata": {},
   "outputs": [
    {
     "name": "stdout",
     "output_type": "stream",
     "text": [
      "\n",
      "Event types:\n",
      " event_type\n",
      "view        40779399\n",
      "cart          926514\n",
      "purchase      742849\n",
      "Name: count, dtype: int64\n"
     ]
    },
    {
     "data": {
      "image/png": "[encoded data removed]",
      "text/plain": [
       "<Figure size 600x400 with 1 Axes>"
      ]
     },
     "metadata": {},
     "output_type": "display_data"
    }
   ],
   "source": [
    "# 1.8 Event Type Counts\n",
    "\n",
    "event_counts = data['event_type'].value_counts()\n",
    "print(\"\\nEvent types:\\n\", event_counts)\n",
    "\n",
    "# Optional: Plot\n",
    "plt.figure(figsize=(6,4))\n",
    "sns.barplot(x=event_counts.index, y=event_counts.values)\n",
    "plt.title(\"Event Type Counts\")\n",
    "plt.xlabel(\"Event Type\")\n",
    "plt.ylabel(\"Count\")\n",
    "plt.show()"
   ]
  },
  {
   "cell_type": "code",
   "execution_count": null,
   "id": "4a7dac4a-0ee9-4087-b3e7-5c7b9c9a9959",
   "metadata": {},
   "outputs": [],
   "source": [
    "# 1.9 Save Cleaned Dataset\n",
    "\n",
    "# Save to new CSV\n",
    "data.to_csv(\"cleaned_ecommerce_data.csv\", index=False)\n",
    "print(\"Cleaned data saved!\")"
   ]
  },
  {
   "cell_type": "code",
   "execution_count": null,
   "id": "10473f2e-ae4a-457c-a8e9-ae9e12fcdfbc",
   "metadata": {},
   "outputs": [],
   "source": []
  }
 ],
 "metadata": {
  "kernelspec": {
   "display_name": "Python [conda env:base] *",
   "language": "python",
   "name": "conda-base-py"
  },
  "language_info": {
   "codemirror_mode": {
    "name": "ipython",
    "version": 3
   },
   "file_extension": ".py",
   "mimetype": "text/x-python",
   "name": "python",
   "nbconvert_exporter": "python",
   "pygments_lexer": "ipython3",
   "version": "3.12.7"
  }
 },
 "nbformat": 4,
 "nbformat_minor": 5
}
