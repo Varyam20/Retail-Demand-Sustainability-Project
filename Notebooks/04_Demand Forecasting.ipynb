{
 "cells": [
  {
   "cell_type": "code",
   "execution_count": 5,
   "id": "d7e81ffe-6f7b-482c-a94a-e16a35dfd12d",
   "metadata": {},
   "outputs": [
    {
     "name": "stdout",
     "output_type": "stream",
     "text": [
      "Combined data saved as phase2_OctNov_combined_session_features.csv\n"
     ]
    }
   ],
   "source": [
    "import pandas as pd\n",
    "\n",
    "# Load session-level features\n",
    "oct_data = pd.read_csv(r\"D:\\Sparkathon\\Data\\phase2_Oct_session_features.csv\", parse_dates=[\"session_start\", \"session_end\"])\n",
    "nov_data = pd.read_csv(r\"D:\\Sparkathon\\Data\\phase2_Nov_session_features.csv\", parse_dates=[\"session_start\", \"session_end\"])\n",
    "\n",
    "# Combine both\n",
    "data = pd.concat([oct_data, nov_data], ignore_index=True)\n",
    "\n",
    "#  Save to file\n",
    "data.to_csv(\"phase2_OctNov_combined_session_features.csv\", index=False)\n",
    "print(\"Combined data saved as phase2_OctNov_combined_session_features.csv\")\n"
   ]
  },
  {
   "cell_type": "code",
   "execution_count": 11,
   "id": "0b68c27a-9440-4593-8bb6-e4b313c275bf",
   "metadata": {},
   "outputs": [
    {
     "name": "stdout",
     "output_type": "stream",
     "text": [
      "Daily user-level demand: (15058865, 3)\n",
      "Top 5 users: [512386086, 549030056, 538340540, 549109608, 538473314]\n",
      "\n",
      "📈 Forecasting for user: 512386086\n"
     ]
    },
    {
     "name": "stderr",
     "output_type": "stream",
     "text": [
      "19:17:31 - cmdstanpy - INFO - Chain [1] start processing\n",
      "19:17:31 - cmdstanpy - INFO - Chain [1] done processing\n"
     ]
    },
    {
     "name": "stdout",
     "output_type": "stream",
     "text": [
      "MAE: 3.63, RMSE: 5.10\n"
     ]
    },
    {
     "name": "stderr",
     "output_type": "stream",
     "text": [
      "19:17:32 - cmdstanpy - INFO - Chain [1] start processing\n"
     ]
    },
    {
     "name": "stdout",
     "output_type": "stream",
     "text": [
      "\n",
      "📈 Forecasting for user: 549030056\n"
     ]
    },
    {
     "name": "stderr",
     "output_type": "stream",
     "text": [
      "19:17:33 - cmdstanpy - INFO - Chain [1] done processing\n"
     ]
    },
    {
     "name": "stdout",
     "output_type": "stream",
     "text": [
      "MAE: 3.27, RMSE: 3.88\n"
     ]
    },
    {
     "name": "stderr",
     "output_type": "stream",
     "text": [
      "19:17:33 - cmdstanpy - INFO - Chain [1] start processing\n"
     ]
    },
    {
     "name": "stdout",
     "output_type": "stream",
     "text": [
      "\n",
      "📈 Forecasting for user: 538340540\n"
     ]
    },
    {
     "name": "stderr",
     "output_type": "stream",
     "text": [
      "19:17:33 - cmdstanpy - INFO - Chain [1] done processing\n"
     ]
    },
    {
     "name": "stdout",
     "output_type": "stream",
     "text": [
      "MAE: 4.41, RMSE: 6.56\n"
     ]
    },
    {
     "name": "stderr",
     "output_type": "stream",
     "text": [
      "19:17:34 - cmdstanpy - INFO - Chain [1] start processing\n"
     ]
    },
    {
     "name": "stdout",
     "output_type": "stream",
     "text": [
      "\n",
      "📈 Forecasting for user: 549109608\n"
     ]
    },
    {
     "name": "stderr",
     "output_type": "stream",
     "text": [
      "19:17:34 - cmdstanpy - INFO - Chain [1] done processing\n"
     ]
    },
    {
     "name": "stdout",
     "output_type": "stream",
     "text": [
      "MAE: 3.25, RMSE: 3.71\n"
     ]
    },
    {
     "name": "stderr",
     "output_type": "stream",
     "text": [
      "19:17:35 - cmdstanpy - INFO - Chain [1] start processing\n"
     ]
    },
    {
     "name": "stdout",
     "output_type": "stream",
     "text": [
      "\n",
      "📈 Forecasting for user: 538473314\n"
     ]
    },
    {
     "name": "stderr",
     "output_type": "stream",
     "text": [
      "19:17:35 - cmdstanpy - INFO - Chain [1] done processing\n"
     ]
    },
    {
     "name": "stdout",
     "output_type": "stream",
     "text": [
      "MAE: 2.28, RMSE: 3.88\n",
      "\n",
      "All forecasts and plots saved in: user_forecasts\n"
     ]
    }
   ],
   "source": [
    "import pandas as pd\n",
    "from prophet import Prophet\n",
    "from sklearn.metrics import mean_absolute_error, mean_squared_error\n",
    "import numpy as np\n",
    "import matplotlib.pyplot as plt\n",
    "import os\n",
    "\n",
    "# Load data\n",
    "data = pd.read_csv(r\"D:\\Sparkathon\\Data\\phase2_OctNov_combined_session_features.csv\", parse_dates=['session_start'])\n",
    "\n",
    "# Step 1: Add daily date column\n",
    "data['date'] = data['session_start'].dt.date\n",
    "\n",
    "# Step 2: Aggregate daily purchases per user\n",
    "daily = data.groupby(['user_id', 'date'])['made_purchase'].sum().reset_index()\n",
    "daily.columns = ['user_id', 'ds', 'y']\n",
    "\n",
    "print(\"Daily user-level demand:\", daily.shape)\n",
    "\n",
    "# Step 3: Focus on top 5 active users (who purchased most)\n",
    "top_users = daily.groupby('user_id')['y'].sum().sort_values(ascending=False).head(5).index.tolist()\n",
    "print(\"Top 5 users:\", top_users)\n",
    "\n",
    "# Step 4: Create forecast folder to save output\n",
    "forecast_dir = \"user_forecasts\"\n",
    "os.makedirs(forecast_dir, exist_ok=True)\n",
    "\n",
    "# Step 5: Forecast for each top user\n",
    "for user in top_users:\n",
    "    print(f\"\\n📈 Forecasting for user: {user}\")\n",
    "    \n",
    "    user_df = daily[daily['user_id'] == user].copy()\n",
    "    user_df['ds'] = pd.to_datetime(user_df['ds'])\n",
    "    \n",
    "    # Train-test split\n",
    "    train = user_df[:-15]\n",
    "    test = user_df[-15:]\n",
    "    \n",
    "    # Prophet model\n",
    "    model = Prophet(daily_seasonality=True)\n",
    "    model.fit(train)\n",
    "    \n",
    "    # Future df\n",
    "    future = model.make_future_dataframe(periods=15)\n",
    "    forecast = model.predict(future)\n",
    "    \n",
    "    # Clean forecast\n",
    "    forecast_clean = forecast[['ds', 'yhat']].copy()\n",
    "    forecast_clean.rename(columns={'yhat': 'predicted_purchases'}, inplace=True)\n",
    "    \n",
    "    # Merge for evaluation\n",
    "    merged = pd.merge(user_df, forecast_clean, on='ds', how='left')\n",
    "    eval_df = merged.tail(15)\n",
    "    \n",
    "    # 🛠 Drop any rows with NaNs\n",
    "    eval_df = eval_df.dropna(subset=['y', 'predicted_purchases'])\n",
    "\n",
    "    # Now evaluate\n",
    "    mae = mean_absolute_error(eval_df['y'], eval_df['predicted_purchases'])\n",
    "    rmse = np.sqrt(mean_squared_error(eval_df['y'], eval_df['predicted_purchases']))\n",
    "    \n",
    "    print(f\"MAE: {mae:.2f}, RMSE: {rmse:.2f}\")\n",
    "    \n",
    "    # Plot\n",
    "    plt.figure(figsize=(10, 5))\n",
    "    plt.plot(user_df['ds'], user_df['y'], label='Actual')\n",
    "    plt.plot(forecast_clean['ds'], forecast_clean['predicted_purchases'], label='Forecast')\n",
    "    plt.title(f'User {user} - Demand Forecast')\n",
    "    plt.xlabel('Date')\n",
    "    plt.ylabel('Purchases')\n",
    "    plt.legend()\n",
    "    plt.tight_layout()\n",
    "    plt.savefig(os.path.join(forecast_dir, f\"user_{user}_forecast.png\"))\n",
    "    plt.close()\n",
    "    \n",
    "    # Save forecast\n",
    "    forecast_clean.to_csv(os.path.join(forecast_dir, f\"user_{user}_forecast.csv\"), index=False)\n",
    "\n",
    "print(\"\\nAll forecasts and plots saved in:\", forecast_dir)\n"
   ]
  },
  {
   "cell_type": "code",
   "execution_count": 2,
   "id": "bd8257e9-dc4e-4d48-b740-0b240db76306",
   "metadata": {},
   "outputs": [
    {
     "name": "stderr",
     "output_type": "stream",
     "text": [
      "18:05:39 - cmdstanpy - INFO - Chain [1] start processing\n",
      "18:05:40 - cmdstanpy - INFO - Chain [1] done processing\n"
     ]
    },
    {
     "name": "stdout",
     "output_type": "stream",
     "text": [
      "✅ Final Evaluation:\n",
      "MAE: 14470.99\n",
      "RMSE: 29962.52\n"
     ]
    },
    {
     "data": {
      "text/plain": [
       "['D:\\\\Sparkathon\\\\Data\\\\phase3b_prophet_model.pkl']"
      ]
     },
     "execution_count": 2,
     "metadata": {},
     "output_type": "execute_result"
    }
   ],
   "source": [
    "import pandas as pd\n",
    "import numpy as np\n",
    "import matplotlib.pyplot as plt\n",
    "from prophet import Prophet\n",
    "from sklearn.metrics import mean_absolute_error, mean_squared_error\n",
    "import joblib\n",
    "import os\n",
    "\n",
    "# === STEP 1: Load Cleaned Data (Oct + Nov) ===\n",
    "data = pd.read_csv(r\"D:\\Sparkathon\\Data\\phase2_OctNov_combined_session_features.csv\", parse_dates=['session_start'])\n",
    "\n",
    "# === STEP 2: Create Daily Platform Demand ===\n",
    "data['date'] = data['session_start'].dt.date\n",
    "daily_demand = data.groupby('date')['made_purchase'].sum().reset_index()\n",
    "daily_demand.columns = ['ds', 'y']  # Prophet naming\n",
    "\n",
    "# ✅ Convert to datetime for Prophet compatibility\n",
    "daily_demand['ds'] = pd.to_datetime(daily_demand['ds'])\n",
    "\n",
    "# ✅ Optional Smoothing: Rolling mean + back/forward fill (new syntax)\n",
    "daily_demand['y'] = daily_demand['y'].rolling(3, center=True).mean().bfill().ffill()\n",
    "\n",
    "# === STEP 3: Train-Test Split ===\n",
    "train = daily_demand[:-15]\n",
    "test = daily_demand[-15:]\n",
    "\n",
    "# === STEP 4: Train Prophet Model ===\n",
    "model = Prophet(\n",
    "    daily_seasonality=True,\n",
    "    yearly_seasonality=False,\n",
    "    weekly_seasonality=True,\n",
    "    changepoint_prior_scale=0.5\n",
    ")\n",
    "model.fit(train)\n",
    "\n",
    "# === STEP 5: Forecast Next 15 Days ===\n",
    "future = model.make_future_dataframe(periods=15)\n",
    "forecast = model.predict(future)\n",
    "\n",
    "# === STEP 5b: Clean and Save Forecast ===\n",
    "forecast_clean = forecast[['ds', 'yhat']].copy()\n",
    "forecast_clean.rename(columns={'ds': 'date', 'yhat': 'predicted_daily_purchases'}, inplace=True)\n",
    "\n",
    "# ✅ Convert date for merge\n",
    "forecast_clean['date'] = pd.to_datetime(forecast_clean['date'])\n",
    "\n",
    "# 📅 Select only next 15 days (December forecast)\n",
    "future_forecast = forecast_clean.tail(15).reset_index(drop=True)\n",
    "future_forecast['cumulative_predicted'] = future_forecast['predicted_daily_purchases'].cumsum()\n",
    "\n",
    "# ✅ Save Forecast\n",
    "forecast_path = r\"D:\\Sparkathon\\Data\\phase3b_total_demand_forecast.csv\"\n",
    "future_forecast.to_csv(forecast_path, index=False)\n",
    "\n",
    "# === STEP 6: Evaluation ===\n",
    "# ✅ Ensure datetime type before merging\n",
    "merged = pd.merge(daily_demand, forecast_clean, left_on='ds', right_on='date')\n",
    "eval_df = merged.tail(15)\n",
    "\n",
    "mae = mean_absolute_error(eval_df['y'], eval_df['predicted_daily_purchases'])\n",
    "rmse = np.sqrt(mean_squared_error(eval_df['y'], eval_df['predicted_daily_purchases']))\n",
    "\n",
    "print(f\"✅ Final Evaluation:\\nMAE: {mae:.2f}\\nRMSE: {rmse:.2f}\")\n",
    "\n",
    "# === STEP 8: Save Model ===\n",
    "joblib.dump(model, r\"D:\\Sparkathon\\Data\\phase3b_prophet_model.pkl\")\n"
   ]
  },
  {
   "cell_type": "code",
   "execution_count": 83,
   "id": "82c9a600-a0ff-42aa-9c60-36e655e1423b",
   "metadata": {},
   "outputs": [
    {
     "name": "stderr",
     "output_type": "stream",
     "text": [
      "17:46:20 - cmdstanpy - INFO - Chain [1] start processing\n",
      "17:46:20 - cmdstanpy - INFO - Chain [1] done processing\n"
     ]
    },
    {
     "name": "stdout",
     "output_type": "stream",
     "text": [
      "Last train date: 2019-11-30 00:00:00\n",
      "         date  predicted_purchases  cumulative_predicted\n",
      "0  2019-12-01         49979.669660          49979.669660\n",
      "1  2019-12-02         29109.848709          79089.518369\n",
      "2  2019-12-03         28278.500099         107368.018468\n",
      "3  2019-12-04         28769.946231         136137.964699\n",
      "4  2019-12-05         28239.695753         164377.660452\n",
      "5  2019-12-06         28008.482039         192386.142492\n",
      "6  2019-12-07         34165.404987         226551.547479\n",
      "7  2019-12-08         51577.668596         278129.216075\n",
      "8  2019-12-09         30707.847645         308837.063720\n",
      "9  2019-12-10         29876.499036         338713.562755\n",
      "10 2019-12-11         30367.945167         369081.507923\n",
      "11 2019-12-12         29837.694690         398919.202612\n",
      "12 2019-12-13         29606.480976         428525.683588\n",
      "13 2019-12-14         35763.403923         464289.087511\n",
      "14 2019-12-15         53175.667533         517464.755044\n"
     ]
    }
   ],
   "source": [
    "from prophet import Prophet\n",
    "import pandas as pd\n",
    "\n",
    "# ✅ Your daily_demand dataset (with 'ds' and 'y')\n",
    "# Make sure 'ds' is in datetime format\n",
    "daily_demand['ds'] = pd.to_datetime(daily_demand['ds'])\n",
    "\n",
    "# ✅ Train on Oct + Nov\n",
    "train = daily_demand  # assuming you've already selected Oct+Nov only\n",
    "\n",
    "# ✅ Fit the model\n",
    "model = Prophet(daily_seasonality=True)\n",
    "model.fit(train)\n",
    "\n",
    "# ✅ Check last date in training\n",
    "last_train_date = train['ds'].max()\n",
    "print(\"Last train date:\", last_train_date)\n",
    "\n",
    "# ✅ We want to forecast for 15 days **after** last train date\n",
    "# So calculate how many more days are needed\n",
    "forecast_horizon = pd.date_range(start=last_train_date + pd.Timedelta(days=1), periods=15)\n",
    "\n",
    "# ✅ Create future dataframe to include exactly till Dec 15\n",
    "future = model.make_future_dataframe(periods=15, freq='D')  # daily frequency\n",
    "\n",
    "# ✅ Predict\n",
    "forecast = model.predict(future)\n",
    "\n",
    "# ✅ Filter forecast to only December predictions (post training period)\n",
    "future_forecast = forecast[forecast['ds'] > last_train_date][['ds', 'yhat']].copy()\n",
    "future_forecast.rename(columns={\n",
    "    'ds': 'date',\n",
    "    'yhat': 'predicted_purchases'\n",
    "}, inplace=True)\n",
    "\n",
    "future_forecast.reset_index(drop=True, inplace=True)\n",
    "\n",
    "# ✅ Add cumulative forecast (optional)\n",
    "future_forecast['cumulative_predicted'] = future_forecast['predicted_purchases'].cumsum()\n",
    "\n",
    "# ✅ Save or display\n",
    "future_forecast.to_csv(\"dec_forecast_only.csv\", index=False)\n",
    "print(future_forecast)\n"
   ]
  },
  {
   "cell_type": "code",
   "execution_count": 26,
   "id": "b28e90b6-7edd-407f-9919-a1a23760b6dc",
   "metadata": {},
   "outputs": [
    {
     "data": {
      "image/png": "[encoded data removed]",
      "text/plain": [
       "<Figure size 1200x600 with 1 Axes>"
      ]
     },
     "metadata": {},
     "output_type": "display_data"
    }
   ],
   "source": [
    "import pandas as pd\n",
    "import matplotlib.pyplot as plt\n",
    "import matplotlib.dates as mdates\n",
    "import joblib\n",
    "\n",
    "# === Load saved model and forecast ===\n",
    "model = joblib.load(r\"D:\\Sparkathon\\Notebooks\\phase3b_prophet_model.pkl\")\n",
    "forecast_path = r\"D:\\Sparkathon\\Notebooks\\dec_forecast_only.csv\"\n",
    "future_forecast = pd.read_csv(forecast_path, parse_dates=['date'])\n",
    "\n",
    "# === Load full daily demand data (Oct + Nov) ===\n",
    "data = pd.read_csv(r\"D:\\Sparkathon\\Data\\phase2_OctNov_combined_session_features.csv\", parse_dates=['session_start'])\n",
    "\n",
    "# === Aggregate daily purchases ===\n",
    "data['date'] = data['session_start'].dt.date\n",
    "daily_demand = data.groupby('date')['made_purchase'].sum().reset_index()\n",
    "daily_demand.columns = ['date', 'y']\n",
    "daily_demand['date'] = pd.to_datetime(daily_demand['date'])\n",
    "\n",
    "# === Plot Full Oct–Nov Actuals + Dec Forecast ===\n",
    "plt.figure(figsize=(12, 6))\n",
    "\n",
    "# Plot full Oct–Nov actuals\n",
    "plt.plot(daily_demand['date'], daily_demand['y'], label='Actual Demand (Oct–Nov)', color='blue', marker='o')\n",
    "\n",
    "# Plot Dec forecast\n",
    "plt.plot(future_forecast['date'], future_forecast['predicted_purchases'],\n",
    "         label='Forecast (Dec)', color='green', marker='o')\n",
    "\n",
    "# Add red vertical line on Dec 1\n",
    "dec_1 = future_forecast['date'].iloc[0]\n",
    "plt.axvline(x=dec_1, color='red', linestyle='--', label='Forecast Start (Dec 1)')\n",
    "\n",
    "# Annotate spike (convert to Timestamp)\n",
    "plt.annotate(\"Possible Sale Event\",\n",
    "             xy=(pd.Timestamp('2019-11-17'), 195000),\n",
    "             xytext=(pd.Timestamp('2019-11-17'), 150000),\n",
    "             arrowprops=dict(arrowstyle='->', color='red'),\n",
    "             fontsize=9)\n",
    "\n",
    "# Format the plot\n",
    "plt.title(\"Platform Daily Purchase Forecast: Oct–Nov Actuals + Dec Forecast\")\n",
    "plt.xlabel(\"Date\")\n",
    "plt.ylabel(\"Purchases\")\n",
    "plt.xticks(rotation=45)\n",
    "plt.gca().xaxis.set_major_formatter(mdates.DateFormatter('%Y-%m-%d'))\n",
    "plt.grid(True)\n",
    "plt.legend()\n",
    "plt.tight_layout()\n",
    "\n",
    "# Save & show plot\n",
    "plt.savefig(r\"D:\\Sparkathon\\Data\\phase3b_forecast_plot_with_dec_line_full.png\")\n",
    "plt.show()\n"
   ]
  },
  {
   "cell_type": "code",
   "execution_count": null,
   "id": "2862c6dd-d56e-4b60-9387-600e7f9557f5",
   "metadata": {},
   "outputs": [],
   "source": []
  }
 ],
 "metadata": {
  "kernelspec": {
   "display_name": "Python [conda env:base] *",
   "language": "python",
   "name": "conda-base-py"
  },
  "language_info": {
   "codemirror_mode": {
    "name": "ipython",
    "version": 3
   },
   "file_extension": ".py",
   "mimetype": "text/x-python",
   "name": "python",
   "nbconvert_exporter": "python",
   "pygments_lexer": "ipython3",
   "version": "3.12.7"
  }
 },
 "nbformat": 4,
 "nbformat_minor": 5
}
